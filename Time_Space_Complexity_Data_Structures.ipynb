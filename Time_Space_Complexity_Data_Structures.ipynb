{
 "cells": [
  {
   "cell_type": "markdown",
   "metadata": {},
   "source": [
    "# Time/Space Complexity - Intro to Data Structures (User Defined)\n",
    "\n",
    "### Topics to discuss today:\n",
    "\n",
    "<ul>\n",
    "    <li>Time and Space Complexity - What is it/How do we measure it</li>\n",
    "    <li>Asymptotic Analysis</li>\n",
    "    <li><strong>Data Structures</strong></li>\n",
    "    <li>Some of the popular sorting algorithms</li>\n",
    "</ul>\n",
    "\n",
    "### Data Structures to discuss:\n",
    "- Arrays\n",
    "- Stacks\n",
    "- Queues\n",
    "- Linked Lists\n",
    "    - Singly Linked Lists\n",
    "    - Traversing A Linked List\n",
    "    - Finding a node in a linked list\n",
    "    - Adding to a linked list\n",
    "- Binary Search Trees\n",
    "    - Construction\n",
    "    - Traversal\n"
   ]
  },
  {
   "cell_type": "markdown",
   "metadata": {},
   "source": [
    "## Time and Space Complexity\n",
    "\n",
    "#### What is it?\n",
    "\n",
    "Time and space complexity is the measure of how much time a given action(function) will take to solve a problem. In the same fashion, we determine how much a given data structure will need in terms of memory allocation. A problem can have multiple solutions and finding the optimal solution for the problem needs to be analyzed in time and space.\n",
    "\n",
    "#### How do we measure Time and Space Complexity?\n",
    "\n",
    "In order to measure time and space complexity we use Asymptotic analysis. The reason for this is because we need a way to measure different algorithms (functions) based on the size of their inputs in a mathmatical way. For example, we could have a function that is computed as f(n) and another that is g(n^2). All things around the function staying constant, the only thing that changes is the size of the input. Below is the chart that shows the different Asymptotic analysis formats. "
   ]
  },
  {
   "cell_type": "markdown",
   "metadata": {},
   "source": [
    "<table style=\"text-align:center;\" class=\"table table-bordered\">\n",
    "<tbody><tr>\n",
    "<td>constant</td>\n",
    "<td>−</td>\n",
    "<td>Ο(1)</td>\n",
    "</tr>\n",
    "<tr>\n",
    "<td>logarithmic</td>\n",
    "<td>−</td>\n",
    "<td>Ο(log n)</td>\n",
    "</tr>\n",
    "<tr>\n",
    "<td>linear</td>\n",
    "<td>−</td>\n",
    "<td>Ο(n)</td>\n",
    "</tr>\n",
    "<tr>\n",
    "<td>Linear Logarithmic</td>\n",
    "<td>−</td>\n",
    "<td>Ο(n log n)</td>\n",
    "</tr>\n",
    "<tr>\n",
    "<td>quadratic</td>\n",
    "<td>−</td>\n",
    "<td>Ο(n<sup>2</sup>)</td>\n",
    "</tr>\n",
    "<tr>\n",
    "<td>cubic</td>\n",
    "<td>−</td>\n",
    "<td>Ο(n<sup>3</sup>)</td>\n",
    "</tr>\n",
    "<tr>\n",
    "<td>polynomial</td>\n",
    "<td>−</td>\n",
    "<td>n<sup>Ο(1)</sup></td>\n",
    "</tr>\n",
    "<tr>\n",
    "<td>exponential</td>\n",
    "<td>−</td>\n",
    "<td>2<sup>Ο(n)</sup></td>\n",
    "</tr>\n",
    "</tbody></table>"
   ]
  },
  {
   "cell_type": "markdown",
   "metadata": {},
   "source": [
    "## Arrays"
   ]
  },
  {
   "cell_type": "markdown",
   "metadata": {},
   "source": [
    "In python we benefit from the dynamic array which means the block of memory will expand as needed for the given input to the array. In traditional arrays (depending on the type of operating system) we will usually store our inputs in 4 or 8 consecutive blocks of memory. Below is a diagram of how that looks under the hood:\n",
    "\n",
    "<img src=\"http://www.mathcs.emory.edu/~cheung/Courses/170/Syllabus/09/FIGS/array02x.gif\" style=\"height:250px; width:350px;\">"
   ]
  },
  {
   "cell_type": "markdown",
   "metadata": {},
   "source": [
    "## Which in python looks like this:"
   ]
  },
  {
   "cell_type": "code",
   "execution_count": 5,
   "metadata": {
    "scrolled": true
   },
   "outputs": [
    {
     "name": "stdout",
     "output_type": "stream",
     "text": [
      "[23, 4, 6, 15, 5, 7]\n"
     ]
    }
   ],
   "source": [
    "array = [23, 4, 6, 15, 5, 7]\n",
    "print(array)"
   ]
  },
  {
   "cell_type": "markdown",
   "metadata": {},
   "source": [
    "### Let's take a look at some of the time and space analysis of arrays"
   ]
  },
  {
   "cell_type": "code",
   "execution_count": 6,
   "metadata": {},
   "outputs": [
    {
     "name": "stdout",
     "output_type": "stream",
     "text": [
      "23\n",
      "4\n",
      "6\n",
      "15\n",
      "5\n",
      "7\n"
     ]
    },
    {
     "data": {
      "text/plain": [
       "23"
      ]
     },
     "execution_count": 6,
     "metadata": {},
     "output_type": "execute_result"
    }
   ],
   "source": [
    "#indexing an array(list)\n",
    "indexing = array[1] #constant Time and Space 0[1\n",
    "#  searching through a list\n",
    "# Linear Time - 0(n) constant space0(1)\n",
    "for i in array:\n",
    "    print(i)\n",
    "#copying an array\n",
    "#linear Time - 0(n) and Linear Space0(n)\n",
    "copying = array[:]\n",
    "# setting an index in an array[list]\n",
    "# Constant Time and Constant Space 0(10)\n",
    "array[2] = 55\n",
    "# pop is constant time\n",
    "array.pop()\n",
    "# pop at position 0()\n",
    "array.pop(0)"
   ]
  },
  {
   "cell_type": "markdown",
   "metadata": {},
   "source": [
    "## Stacks and Queues (Review)\n",
    "\n",
    "** Stacks ** as the name suggests is a data structure that allows for data to follow the Last In First Out priciple(LIFO). Think of a stack of pancakes for example. To get the first pancake you would  start with the top and go down.\n",
    "\n",
    "##### Searching through a stack will be Linear Time O(n) - Constant Space O(1)\n",
    "##### Selecting the last item will be done in Constant Time O(1) - Constant Space O(1)\n",
    "##### Adding to the stack should take Constant Time O(1) - Constant Space O(1)\n",
    "\n",
    "** Queues ** are similar but in this case follow the First In First Out principle(FIFO). Think of this as a line in a black friday sale. The first person camped out for the big screen tv is the first to get it.\n",
    "\n",
    "##### Searching through a queue will be Linear Time O(n) - Constant Space O(1)\n",
    "##### Selecting the first item will be done in Constant Time O(1) - Constant Space O(1)\n",
    "##### Adding to the queue should take Constant Time O(1) - Constant Space O(1)"
   ]
  },
  {
   "cell_type": "code",
   "execution_count": 3,
   "metadata": {},
   "outputs": [
    {
     "name": "stdout",
     "output_type": "stream",
     "text": [
      "c\n"
     ]
    }
   ],
   "source": [
    "stack = []\n",
    "stack.append('a')\n",
    "stack.append('b')\n",
    "stack.append('c')\n",
    "last_item = stack.pop()\n",
    "print(last_item)"
   ]
  },
  {
   "cell_type": "code",
   "execution_count": 14,
   "metadata": {},
   "outputs": [
    {
     "name": "stdout",
     "output_type": "stream",
     "text": [
      "a\n"
     ]
    }
   ],
   "source": [
    "queue = []\n",
    "queue.append('a')\n",
    "queue.append('b')\n",
    "queue.append('c')\n",
    "first_item = queue.pop(0)\n",
    "print(first_item)"
   ]
  },
  {
   "cell_type": "code",
   "execution_count": 7,
   "metadata": {},
   "outputs": [
    {
     "name": "stdout",
     "output_type": "stream",
     "text": [
      "c\n"
     ]
    }
   ],
   "source": [
    "from collections import deque\n",
    "stack = deque()\n",
    "stack.append('a')\n",
    "stack.append('b')\n",
    "stack.append('c')\n",
    "print(stack.pop())"
   ]
  },
  {
   "cell_type": "code",
   "execution_count": 9,
   "metadata": {
    "scrolled": true
   },
   "outputs": [
    {
     "name": "stdout",
     "output_type": "stream",
     "text": [
      "deque(['a', 'b', 'c'])\n",
      "a\n"
     ]
    }
   ],
   "source": [
    "from collections import deque\n",
    "queue = deque()\n",
    "queue.append('a')\n",
    "queue.append('b')\n",
    "queue.append('c')\n",
    "# queue.appendleft('z')\n",
    "print(queue)\n",
    "print(queue.popleft())"
   ]
  },
  {
   "cell_type": "code",
   "execution_count": 1,
   "metadata": {},
   "outputs": [
    {
     "name": "stdout",
     "output_type": "stream",
     "text": [
      "a\n"
     ]
    }
   ],
   "source": [
    "from queue import Queue\n",
    "#FIFO\n",
    "q = Queue(maxsize=3)\n",
    "q.put('a')\n",
    "q.put('b')\n",
    "q.put('c')\n",
    "print(q.get())"
   ]
  },
  {
   "cell_type": "code",
   "execution_count": 2,
   "metadata": {},
   "outputs": [
    {
     "name": "stdout",
     "output_type": "stream",
     "text": [
      "c\n"
     ]
    }
   ],
   "source": [
    "from queue import LifoQueue\n",
    "#LIFO\n",
    "s =LifoQueue(maxsize=3)\n",
    "s.put('a')\n",
    "s.put('b')\n",
    "s.put('c')\n",
    "print(s.get())"
   ]
  },
  {
   "cell_type": "markdown",
   "metadata": {},
   "source": [
    "## Linked List (Data Structure)\n",
    "\n",
    "A linked list is created by using the node class. We create a Node object and create another class to use this node object. We pass the appropriate values thorugh the node object to point the to the next data elements.\n",
    "\n",
    "There are some advantages and disadvantages with this data structure. **Advantages** Linked Lists can save memory because they can be flexibile with memory management which saves memory. **Disadvantages** Finding or adding to the list requires traversing the entire list."
   ]
  },
  {
   "cell_type": "code",
   "execution_count": 12,
   "metadata": {},
   "outputs": [
    {
     "name": "stdout",
     "output_type": "stream",
     "text": [
      "Mon\n",
      "Tues\n",
      "Wed\n"
     ]
    }
   ],
   "source": [
    "class LinkedListNode():\n",
    "    def __init__(self, value):\n",
    "        self.value = value\n",
    "        self.next = None\n",
    "        \n",
    "    def __str__(self):\n",
    "        return f'Node: {self.value}'\n",
    "    \n",
    "    def traverse_list(self):\n",
    "        node = self\n",
    "        while node != None:\n",
    "            print(node.value)\n",
    "            node = node.next\n",
    "        \n",
    "    \n",
    "node1 = LinkedListNode('Mon')\n",
    "node2 = LinkedListNode('Tues')\n",
    "node3 = LinkedListNode('Wed')\n",
    "\n",
    "node1.next = node2\n",
    "node2.next = node3\n",
    "# print(node1.next.next)\n",
    "node1.traverse_list()"
   ]
  },
  {
   "cell_type": "code",
   "execution_count": 1,
   "metadata": {},
   "outputs": [
    {
     "name": "stdout",
     "output_type": "stream",
     "text": [
      "Node: Sunday\n",
      "Node: Monday\n",
      "Node: Tuesday\n",
      "Node: Wednesday\n",
      "Node: Thursday\n"
     ]
    }
   ],
   "source": [
    "#  a complete implementation of a linked list\n",
    "# 2 components to this solution - Node Class + Linkedlist Class\n",
    "\n",
    "class Node():\n",
    "    def __init__(self, value):\n",
    "        self.value = value\n",
    "        self.next = None\n",
    "        \n",
    "    def __str__(self):\n",
    "        return f'Node: {self.value}'\n",
    "    \n",
    "    \n",
    "class LinkedList():\n",
    "    def __init__(self):\n",
    "        self.head = None\n",
    "    #Method to add node to beginning of Linked List    \n",
    "    def push_on(self, new_value):\n",
    "        new_node = Node(new_value)\n",
    "        new_node.next = self.head\n",
    "        self.head = new_node\n",
    "        \n",
    "        \n",
    "    #Method to add node after another specified node\n",
    "    def insert_after(self, prev_node, new_value):\n",
    "        #check if previous node even exists\n",
    "        if prev_node is None:\n",
    "            print(\"The previous node must not be empty!\")\n",
    "            return\n",
    "        # if the node is not empty, create a new node\n",
    "        new_node = Node(new_value)\n",
    "        \n",
    "        #update the new node to point to the previous node's next value\n",
    "        new_node.next = prev_node.next\n",
    "        \n",
    "        #update the previous node to point to the new node\n",
    "        prev_node.next = new_node\n",
    "        \n",
    "        \n",
    "    #method to add node at the end of our list(append)\n",
    "    def append(self, new_value):\n",
    "        #create new node with new value\n",
    "        new_node = Node(new_value)\n",
    "        \n",
    "        #check if the linked list is empty\n",
    "        if self.head is None:\n",
    "            #Make the NEW NODE the head node(beginning of list)\n",
    "            self.head = new_node\n",
    "            \n",
    "        #but if the list is not empty - traverse to the end\n",
    "        last = self.head\n",
    "        #while last.next is not None --> continuie to loop until we find a None value\n",
    "        while last.next:\n",
    "            last = last.next\n",
    "            \n",
    "        # Change current last node value to point to the new node\n",
    "        last.next = new_node\n",
    "        \n",
    "        #method to print out all the values of our linked list\n",
    "    def traverse(self):\n",
    "        temp = self.head\n",
    "        #while temp is NOT NOE -> keep looking through the links until we find a None value\n",
    "        while temp:\n",
    "            print(temp)\n",
    "            temp = temp.next\n",
    "                \n",
    "\n",
    "weekday_links = LinkedList()\n",
    "\n",
    "weekday_links.push_on('Monday')\n",
    "weekday_links.append('Tuesday')\n",
    "weekday_links.append('Thursday')\n",
    "weekday_links.insert_after(weekday_links.head.next, \"Wednesday\")\n",
    "weekday_links.push_on(\"Sunday\")\n",
    "weekday_links.traverse()"
   ]
  },
  {
   "cell_type": "markdown",
   "metadata": {},
   "source": [
    "## Binary Search Trees"
   ]
  },
  {
   "cell_type": "code",
   "execution_count": null,
   "metadata": {},
   "outputs": [],
   "source": []
  },
  {
   "cell_type": "code",
   "execution_count": null,
   "metadata": {},
   "outputs": [],
   "source": []
  },
  {
   "cell_type": "markdown",
   "metadata": {},
   "source": [
    "# Homework"
   ]
  },
  {
   "cell_type": "markdown",
   "metadata": {},
   "source": [
    "#### Problem 1: Linked Lists\n",
    "\n",
    "Using the above examples as a guide, create your own interpretation of the a Linked List class. You can not use the code above exactly, but again it can be used as a guide. This problem requires you to think about how a linked list works and create one using your own logic.\n",
    "\n",
    "*Remember* A Linked List is a list of Nodes that point to the next node in the chain. The first Node starts out as Empty(None) and each node after points to the next.\n",
    "\n",
    "Your Linked List should have a traverse method and have the ability to add a new node"
   ]
  },
  {
   "cell_type": "code",
   "execution_count": 8,
   "metadata": {
    "scrolled": true
   },
   "outputs": [
    {
     "name": "stdout",
     "output_type": "stream",
     "text": [
      "Node: sept\n",
      "Node: octob\n",
      "Node: novem\n",
      "Node: decemb\n"
     ]
    }
   ],
   "source": [
    "# I => first you create two classes, one for class Node and one for class Linked list\n",
    "# II => the Node class has a default value of self.next = None\n",
    "\n",
    "class Node():\n",
    "    def __init__(self, value):\n",
    "        self.value = value\n",
    "        self.next = None   \n",
    "    def __str__(self):\n",
    "        return f'Node: {self.value}'\n",
    "       \n",
    "\n",
    "        \n",
    "class LinkedList():\n",
    "    def __init__(self):\n",
    "        self.head = None\n",
    "    \n",
    "    \n",
    "    \n",
    "    def to_the_front(self, next_value):\n",
    "        new_node = Node(next_value)\n",
    "        new_node.next = self.head\n",
    "        self.head = new_node\n",
    "    \n",
    "    \n",
    "    \n",
    "    def insert_after(self, p_node, new_value):\n",
    "        if p_node is None:\n",
    "            print('The given previous node must not be empty')\n",
    "            return\n",
    "        new_node = Node(new_value)\n",
    "        new_node.next = p_node.next\n",
    "        p_node.next = new_node  \n",
    "    \n",
    "    \n",
    "    \n",
    "    def add(self, newvalue):\n",
    "        new_node = Node(newvalue)\n",
    "        if self.head is None:  \n",
    "            self.head = new_node    \n",
    "        last = self.head\n",
    "        while last.next:\n",
    "            last = last.next  \n",
    "        last.next = new_node     \n",
    "    \n",
    "    \n",
    "    \n",
    "    def roam(self):\n",
    "        z = self.head\n",
    "        while z:\n",
    "            print(z)\n",
    "            z = z.next\n",
    "    \n",
    "    \n",
    "    \n",
    "    \n",
    "month_LL = LinkedList()\n",
    "\n",
    "month_LL.to_the_front('sept')\n",
    "month_LL.add('octob')\n",
    "month_LL.add('decemb')\n",
    "month_LL.insert_after(month_LL.head.next, 'novem')\n",
    "month_LL.roam()"
   ]
  },
  {
   "cell_type": "markdown",
   "metadata": {},
   "source": [
    "#### Problem 2: Binary Search Tree\n",
    "\n",
    "Using the above examples as a guide, create your own interpretation of the a Binary Search Tree class. You can not use the code above exactly, but again it can be used as a guide. This problem requires you to think about how a Binary Search Tree works and create one using your own logic.\n",
    "\n",
    "*Remember* Binary Search Trees start with a head node and each node to the left of that will be smaller, each node to the right of it will be greater. The far left node should be the lowest number(if one exists) that is available. The far right node (if one exists) should be the greatest number"
   ]
  },
  {
   "cell_type": "code",
   "execution_count": 12,
   "metadata": {},
   "outputs": [
    {
     "ename": "NameError",
     "evalue": "name 'Bin_S_tree' is not defined",
     "output_type": "error",
     "traceback": [
      "\u001b[0;31m---------------------------------------------------------------------------\u001b[0m",
      "\u001b[0;31mNameError\u001b[0m                                 Traceback (most recent call last)",
      "\u001b[0;32m<ipython-input-12-0bdef18c8792>\u001b[0m in \u001b[0;36m<module>\u001b[0;34m\u001b[0m\n\u001b[1;32m     89\u001b[0m \u001b[0;34m\u001b[0m\u001b[0m\n\u001b[1;32m     90\u001b[0m \u001b[0;34m\u001b[0m\u001b[0m\n\u001b[0;32m---> 91\u001b[0;31m \u001b[0mbst_example\u001b[0m \u001b[0;34m=\u001b[0m \u001b[0mBin_S_tree\u001b[0m\u001b[0;34m(\u001b[0m\u001b[0;36m39\u001b[0m\u001b[0;34m)\u001b[0m\u001b[0;34m\u001b[0m\u001b[0;34m\u001b[0m\u001b[0m\n\u001b[0m\u001b[1;32m     92\u001b[0m \u001b[0mbst_example\u001b[0m\u001b[0;34m.\u001b[0m\u001b[0minsert\u001b[0m\u001b[0;34m(\u001b[0m\u001b[0;36m40\u001b[0m\u001b[0;34m)\u001b[0m\u001b[0;34m\u001b[0m\u001b[0;34m\u001b[0m\u001b[0m\n\u001b[1;32m     93\u001b[0m \u001b[0mbst_example\u001b[0m\u001b[0;34m.\u001b[0m\u001b[0minsert\u001b[0m\u001b[0;34m(\u001b[0m\u001b[0;36m50\u001b[0m\u001b[0;34m)\u001b[0m\u001b[0;34m\u001b[0m\u001b[0;34m\u001b[0m\u001b[0m\n",
      "\u001b[0;31mNameError\u001b[0m: name 'Bin_S_tree' is not defined"
     ]
    }
   ],
   "source": [
    "class BST():\n",
    "    def __init__(self, num):\n",
    "        self.num = num # Current number\n",
    "        self.left = None\n",
    "        self.right = None\n",
    "        \n",
    "    \n",
    "    \n",
    "    def insert(self, num):\n",
    "        if num < self.num:\n",
    "            if self.left is None:\n",
    "                self.left = Bin_S_tree(num)\n",
    "            else:\n",
    "                self.left.insert(num)\n",
    "        else:\n",
    "            if self.right is None:\n",
    "                self.right = Bin_S_tree(num)\n",
    "            else:\n",
    "                self.right.insert(num)\n",
    "                \n",
    "    \n",
    "    \n",
    "    def seek(self, num):\n",
    "        if num < self.num:\n",
    "            if self.left is None:\n",
    "                return False\n",
    "            else:\n",
    "                return self.left.find(num)\n",
    "            \n",
    "        elif num > self.num:\n",
    "            if self.right is None:\n",
    "                return False\n",
    "            else:\n",
    "                return self.right.find(num)\n",
    "            \n",
    "        else:\n",
    "            return True\n",
    "    \n",
    "    \n",
    "    \n",
    "    \n",
    "    def get_max_num(self):\n",
    "        if self.right is None:\n",
    "            return self.num\n",
    "        else:\n",
    "            return self.right.get_max_num()\n",
    "       \n",
    "    \n",
    "    \n",
    "    \n",
    "    def get_min_num(self):\n",
    "        if self.left is None:\n",
    "            return self.num\n",
    "        else:\n",
    "            return self.left.get_min_num()\n",
    "        \n",
    "    \n",
    "    \n",
    "    \n",
    "    def delete(self, num, parent=None):\n",
    "        if value < self.num:\n",
    "            if self.left is not None:\n",
    "                self.left.delete(num, self)\n",
    "        elif value > self.num:\n",
    "            if self.right is not None:\n",
    "                self.right.delete(num, self)\n",
    "        else:\n",
    "            if self.left is not None and self.right is not None:\n",
    "                self.num = self.right.get_min_num()\n",
    "                self.right.delete(self.num, self)\n",
    "            elif parent is None:\n",
    "                if self.left is not None:\n",
    "                    self.num = self.left.num\n",
    "                    self.right = self.left.right\n",
    "                    self.left = self.left.left\n",
    "                elif self.right is not None:\n",
    "                    self.value = self.right.num\n",
    "                    self.right = self.right.right\n",
    "                    self.left = self.right.left\n",
    "                else:\n",
    "                    self.num = None\n",
    "            elif parent.left == self:\n",
    "                parent.left = self.left if self.left is not None else self.right\n",
    "            elif parent.right == self:\n",
    "                parent.right = self.left if self.left is not None else self.right\n",
    "        return self\n",
    "    \n",
    "\n",
    "bst_example = Bin_S_tree(39)\n",
    "bst_example.insert(40)\n",
    "bst_example.insert(50)\n",
    "bst_example.insert(37)\n",
    "bst_example.insert(24)\n",
    "bst_example.insert(29)\n",
    "print(bst_example.get_max_num())\n",
    "print(bst_example.get_min_num())\n",
    "print(bst_example.seek(37))\n",
    "bst_example.delete(37)"
   ]
  },
  {
   "cell_type": "code",
   "execution_count": null,
   "metadata": {},
   "outputs": [],
   "source": []
  }
 ],
 "metadata": {
  "kernelspec": {
   "display_name": "Python 3",
   "language": "python",
   "name": "python3"
  },
  "language_info": {
   "codemirror_mode": {
    "name": "ipython",
    "version": 3
   },
   "file_extension": ".py",
   "mimetype": "text/x-python",
   "name": "python",
   "nbconvert_exporter": "python",
   "pygments_lexer": "ipython3",
   "version": "3.8.5"
  }
 },
 "nbformat": 4,
 "nbformat_minor": 2
}
